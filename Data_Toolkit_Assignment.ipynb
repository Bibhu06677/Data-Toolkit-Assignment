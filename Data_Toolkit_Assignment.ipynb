{
  "nbformat": 4,
  "nbformat_minor": 0,
  "metadata": {
    "colab": {
      "provenance": []
    },
    "kernelspec": {
      "name": "python3",
      "display_name": "Python 3"
    },
    "language_info": {
      "name": "python"
    }
  },
  "cells": [
    {
      "cell_type": "code",
      "execution_count": null,
      "metadata": {
        "id": "39kNd3TCvh3K"
      },
      "outputs": [],
      "source": []
    },
    {
      "cell_type": "markdown",
      "source": [
        "**1- What is NumPy, and why is it widely used in Python?**\n",
        "\n",
        "NumPy (Numerical Python) is a fundamental package for scientific computing in Python. It provides support for:\n",
        "\n",
        "1. Multidimensional Arrays\n",
        "At the core of NumPy is the ndarray (n-dimensional array), which is a powerful and efficient container for large datasets of homogeneous data types.\n",
        "\n",
        "Example:"
      ],
      "metadata": {
        "id": "3m5ZV1UTwM2z"
      }
    },
    {
      "cell_type": "code",
      "source": [
        "import numpy as np\n",
        "\n",
        "a = np.array([[1, 2], [3, 4]])\n",
        "print(a)\n"
      ],
      "metadata": {
        "colab": {
          "base_uri": "https://localhost:8080/"
        },
        "id": "c-Q_eRfiw0Sa",
        "outputId": "6ff9090e-6cee-49e0-fdf9-8e6a23a8ac35"
      },
      "execution_count": 1,
      "outputs": [
        {
          "output_type": "stream",
          "name": "stdout",
          "text": [
            "[[1 2]\n",
            " [3 4]]\n"
          ]
        }
      ]
    },
    {
      "cell_type": "markdown",
      "source": [
        "2. Performance\n",
        "NumPy arrays are much faster and more memory-efficient than traditional Python lists for numerical operations because they:\n",
        "\n",
        "Store data in contiguous blocks of memory.\n",
        "\n",
        "Use vectorized operations (executed at the compiled C level).\n",
        "\n",
        "Minimize the need for looping in Python code."
      ],
      "metadata": {
        "id": "9OEWIMAOw5E0"
      }
    },
    {
      "cell_type": "markdown",
      "source": [
        "3. Mathematical Functions\n",
        "NumPy includes a vast library of functions for mathematical, statistical, and linear algebra operations.\n",
        "\n",
        "Examples:"
      ],
      "metadata": {
        "id": "6xD73RaRw8co"
      }
    },
    {
      "cell_type": "code",
      "source": [
        "np.mean(a)\n",
        "np.dot(a, a)\n",
        "np.linalg.inv(a)\n"
      ],
      "metadata": {
        "colab": {
          "base_uri": "https://localhost:8080/"
        },
        "id": "dWx1rAdmw9Mq",
        "outputId": "70179a1f-95b0-4089-bf1c-8ee62e9ba279"
      },
      "execution_count": 2,
      "outputs": [
        {
          "output_type": "execute_result",
          "data": {
            "text/plain": [
              "array([[-2. ,  1. ],\n",
              "       [ 1.5, -0.5]])"
            ]
          },
          "metadata": {},
          "execution_count": 2
        }
      ]
    },
    {
      "cell_type": "markdown",
      "source": [
        "4. Broadcasting\n",
        "NumPy supports broadcasting, allowing arithmetic operations on arrays of different shapes in a meaningful way.\n",
        "\n",
        "Example:"
      ],
      "metadata": {
        "id": "-VmmgAVTxBWt"
      }
    },
    {
      "cell_type": "code",
      "source": [
        "a = np.array([1, 2, 3])\n",
        "b = 2\n",
        "print(a + b)"
      ],
      "metadata": {
        "colab": {
          "base_uri": "https://localhost:8080/"
        },
        "id": "3k6LgkgCxCzq",
        "outputId": "b9025399-da4a-4d83-b2a5-6345d4aa6f53"
      },
      "execution_count": 3,
      "outputs": [
        {
          "output_type": "stream",
          "name": "stdout",
          "text": [
            "[3 4 5]\n"
          ]
        }
      ]
    },
    {
      "cell_type": "markdown",
      "source": [
        "5. Integration with Other Libraries\n",
        "Many libraries in the Python ecosystem (like pandas, SciPy, scikit-learn, TensorFlow, etc.) are built on top of or compatible with NumPy arrays.\n",
        "\n",
        " Why NumPy is Widely Used:\n",
        "\n",
        " Speed and efficiency: Performs operations much faster than native Python.\n",
        "\n",
        "  Convenient syntax: Vectorized operations make code cleaner and shorter.\n",
        "\n",
        " Interoperability: Seamlessly integrates with many other scientific libraries.\n",
        "\n",
        " Community support: Well-documented, mature, and supported by a large community."
      ],
      "metadata": {
        "id": "uhXu7hnJxGeG"
      }
    },
    {
      "cell_type": "markdown",
      "source": [
        "**2- How does broadcasting work in NumPy?**\n",
        "\n",
        "Broadcasting in NumPy allows arithmetic operations between arrays of different shapes by automatically expanding one or both arrays so they have compatible shapes. It avoids the need for explicit replication of data, making operations efficient and concise.\n",
        "\n",
        "Basic Rules of Broadcasting\n",
        "\n",
        "When operating on two arrays, NumPy compares their shapes element-wise, starting from the trailing (last) dimensions. Two dimensions are compatible when:\n",
        "\n",
        "They are equal, or\n",
        "\n",
        "One of them is 1\n",
        "\n",
        "If they are compatible, NumPy stretches the smaller array along the mismatched dimension(s) to match the shape of the larger array without copying data.\n",
        "\n",
        "Broadcasting Rules (Simplified):\n",
        "\n",
        "Align dimensions from the right (trailing dimensions).\n",
        "\n",
        "Starting from the last dimension, two dimensions are compatible if:\n",
        "\n",
        "They are equal, or\n",
        "\n",
        "One of them is 1\n",
        "\n",
        "If dimensions are not compatible, broadcasting fails with an error."
      ],
      "metadata": {
        "id": "L9oBxDhexYRq"
      }
    },
    {
      "cell_type": "markdown",
      "source": [
        "**3- What is a Pandas DataFrame?**\n",
        "\n",
        "A Pandas DataFrame is a 2-dimensional, labeled data structure in Python’s Pandas library. You can think of it like a spreadsheet or an SQL table, or a dictionary of Series (1D labeled arrays) that share the same index.\n",
        "\n",
        "Key Characteristics of a DataFrame:\n",
        "\n",
        "| Feature                | Description                                                              |\n",
        "| ---------------------- | ------------------------------------------------------------------------ |\n",
        "| **Rows and Columns**   | Each row has a label (index), and each column has a name.                |\n",
        "| **Heterogeneous Data** | Columns can hold different data types (e.g., integers, strings, floats). |\n",
        "| **Size-Mutable**       | You can add/remove columns and rows easily.                              |\n",
        "| **Label-Based Access** | Use labels or boolean masks to access or manipulate data.                |\n",
        "\n",
        "\n",
        "Why DataFrames Are Widely Used:\n",
        "\n",
        "Great for data analysis and manipulation\n",
        "\n",
        "Integrated with NumPy, Matplotlib, and scikit-learn\n",
        "\n",
        "Handles missing data, grouping, joining, pivoting, etc.\n",
        "\n",
        "Efficient and intuitive for real-world data tasks"
      ],
      "metadata": {
        "id": "eiFSRw5vy4_j"
      }
    },
    {
      "cell_type": "markdown",
      "source": [
        "**4- Explain the use of the groupby() method in Pandas?**\n",
        "\n",
        "The groupby() method in Pandas is used to split data into groups based on some criteria, and then apply aggregate, transform, or filter operations to those groups.\n",
        "\n",
        "Why Use groupby()?\n",
        "\n",
        "It’s ideal for:\n",
        "\n",
        "Summarizing data (e.g. average sales per region)\n",
        "\n",
        "Performing split-apply-combine operations\n",
        "\n",
        "Efficient aggregation and transformation of data\n",
        "\n",
        "Common Operations with groupby()\n",
        "\n",
        "| Operation                 | Example                                                                 |\n",
        "| ------------------------- | ----------------------------------------------------------------------- |\n",
        "| **Sum**                   | `df.groupby('Department')['Salary'].sum()`                              |\n",
        "| **Count**                 | `df.groupby('Department').count()`                                      |\n",
        "| **Multiple Aggregations** | `df.groupby('Department')['Salary'].agg(['mean', 'max'])`               |\n",
        "| **Filter**                | `df.groupby('Department').filter(lambda x: x['Salary'].mean() > 60000)` |\n",
        "| **Transform**             | `df.groupby('Department')['Salary'].transform(lambda x: x - x.mean())`  |\n"
      ],
      "metadata": {
        "id": "gK4ZGo_ZzZYK"
      }
    },
    {
      "cell_type": "markdown",
      "source": [
        "**5- Why is Seaborn preferred for statistical visualizations?**\n",
        "\n",
        "Seaborn is a high-level Python data visualization library built on top of Matplotlib, and it is preferred for statistical visualizations for several key reasons:\n",
        "\n",
        "1. Built-in Support for Statistical Plots\n",
        "Seaborn offers a wide range of statistical plots out of the box, such as:\n",
        "\n",
        "Box plots, violin plots, bar plots, histograms\n",
        "\n",
        "Regression plots (regplot, lmplot)\n",
        "\n",
        "Distribution plots (distplot, displot, kdeplot)\n",
        "\n",
        "Heatmaps (useful for correlation matrices)\n",
        "\n",
        " 2. Simplifies Complex Visualizations\n",
        "\n",
        "Seaborn automates many aspects of plotting that would require more effort in Matplotlib:\n",
        "\n",
        "Automatically computes confidence intervals\n",
        "\n",
        "Handles categorical variables\n",
        "\n",
        "Offers faceted grids (FacetGrid, catplot, pairplot) to show multiple subplots grouped by category\n",
        "\n",
        "3. Beautiful and Clean Styles by Default\n",
        "\n",
        "Seaborn’s default styles are:\n",
        "\n",
        "Visually appealing\n",
        "\n",
        "Consistent\n",
        "\n",
        "Professionally formatted\n",
        "\n",
        "4. Integration with Pandas\n",
        "\n",
        "Seaborn works seamlessly with Pandas DataFrames:\n",
        "\n",
        "Uses column names directly\n",
        "\n",
        "No need to extract individual arrays\n",
        "\n",
        "Automatically handles NaN values gracefully\n",
        "\n",
        "5. Advanced Plotting Tools\n",
        "\n",
        "Seaborn provides:\n",
        "\n",
        "Pairwise relationships (pairplot)\n",
        "\n",
        "Categorical comparisons (stripplot, swarmplot, boxenplot)\n",
        "\n",
        "Time series plotting\n",
        "\n",
        "Built-in themes and color palettes (sns.color_palette())\n",
        "\n",
        "6. Built-in Datasets for Quick Prototyping\n",
        "\n",
        "Seaborn comes with several datasets (e.g., tips, iris, flights) that are ideal for learning and testing."
      ],
      "metadata": {
        "id": "Xe9l28iY0JfV"
      }
    },
    {
      "cell_type": "markdown",
      "source": [
        "**6- What are the differences between NumPy arrays and Python lists?**\n",
        "\n",
        "NumPy arrays and Python lists may seem similar at first glance (both can store collections of values), they are fundamentally different in terms of performance, functionality, and usage.\n",
        "\n",
        "NumPy Arrays vs. Python Lists\n",
        "\n",
        "| Feature                      | **NumPy Arrays**                                          | **Python Lists**                                          |\n",
        "| ---------------------------- | --------------------------------------------------------- | --------------------------------------------------------- |\n",
        "| **Data Type**                | Homogeneous (all elements must be of the same type)       | Heterogeneous (can hold mixed types)                      |\n",
        "| **Performance**              | Much faster (uses C under the hood)                       | Slower due to dynamic typing and generality               |\n",
        "| **Memory Usage**             | More efficient and compact                                | Less efficient (each element is a separate Python object) |\n",
        "| **Vectorized Operations**    | Yes (supports element-wise arithmetic and broadcasting)   | No (requires loops or list comprehensions)                |\n",
        "| **Functionality**            | Supports advanced mathematical and statistical operations | Basic operations only                                     |\n",
        "| **Multidimensional Support** | Built-in support for multidimensional arrays (`ndarray`)  | Needs nested lists (less efficient and harder to manage)  |\n",
        "| **Indexing**                 | Powerful slicing, masking, and broadcasting               | Basic indexing only                                       |\n",
        "| **Dependencies**             | Requires NumPy library                                    | Built into Python                                         |\n"
      ],
      "metadata": {
        "id": "SWcOHPND028q"
      }
    },
    {
      "cell_type": "markdown",
      "source": [
        "**7- What is a heatmap, and when should it be used?**\n",
        "\n",
        "A heatmap is a two-dimensional data visualization technique that uses color gradients to represent the magnitude of values across a dataset. Each cell in the heatmap corresponds to a data point, with its color intensity reflecting the value's magnitude—typically, warmer colors like reds and oranges indicate higher values, while cooler colors like blues and greens represent lower values.\n",
        "\n",
        "When to Use a Heatmap\n",
        "\n",
        "Heatmaps are particularly effective in the following scenarios:\n",
        "\n",
        "Identifying Patterns and Trends: They allow for quick recognition of patterns, correlations, and anomalies within large datasets. For instance, in a correlation matrix, heatmaps can visually depict the strength of relationships between variables.\n",
        "\n",
        "\n",
        "Analyzing Geospatial Data: In spatial heatmaps, color-coded areas overlaid on maps can illustrate variations in metrics like population density or crime rates across different regions.\n",
        "\n",
        "\n",
        "Monitoring Website User Behavior: Website heatmaps visualize user interactions, such as clicks, scrolls, and mouse movements, helping UX designers and marketers understand user engagement and optimize webpage layouts.\n",
        "\n",
        "\n",
        "\n",
        "Visualizing Complex Data: In fields like bioinformatics, heatmaps are used to represent gene expression levels across different conditions, facilitating the identification of significant patterns in the data."
      ],
      "metadata": {
        "id": "m3KAWBc72s7p"
      }
    },
    {
      "cell_type": "markdown",
      "source": [
        "**8- What does the term “vectorized operation” mean in NumPy?**\n",
        "\n",
        "In NumPy, a \"vectorized operation\" refers to the ability to perform operations on entire arrays (or large datasets) at once, rather than using explicit loops to iterate through individual elements. This is achieved through the use of NumPy's underlying C and Fortran libraries, which are optimized for performance.\n",
        "\n",
        "Vectorized operations allow for:\n",
        "\n",
        "Efficiency: They are generally much faster than using Python loops because they leverage low-level optimizations and avoid the overhead of Python's interpreted loops.\n",
        "\n",
        "Conciseness: Code that uses vectorized operations is often more concise and easier to read. Instead of writing loops, you can express operations in a more mathematical form.\n",
        "\n",
        "Broadcasting: NumPy supports broadcasting, which allows operations to be performed on arrays of different shapes in a way that makes sense mathematically. This means you can add a scalar to an array or perform operations between arrays of different dimensions without needing to manually align them."
      ],
      "metadata": {
        "id": "wwCvmEDR4aqU"
      }
    },
    {
      "cell_type": "markdown",
      "source": [
        "**9-How does Matplotlib differ from Plotly?**\n",
        "\n",
        "Matplotlib and Plotly are both powerful Python libraries used for data visualization, but they differ significantly in terms of capabilities, use cases, and interactivity. Here's a breakdown of their main differences:\n",
        "\n",
        "| Feature       | Matplotlib             | Plotly                          |\n",
        "| ------------- | ---------------------- | ------------------------------- |\n",
        "| Interactivity | Static                 | Interactive                     |\n",
        "| Ease of Use   | Moderate to advanced   | Beginner-friendly               |\n",
        "| Customization | High (but verbose)     | High (with clean syntax)        |\n",
        "| Best for      | Publications, research | Dashboards, web apps            |\n",
        "| 3D Support    | Basic                  | Advanced                        |\n",
        "| Output Format | Static images          | Interactive HTML, static export |\n",
        "| Integration   | LaTeX, NumPy, pandas   | Dash, Jupyter, web              |\n",
        "\n",
        "\n"
      ],
      "metadata": {
        "id": "W4KRwTMg4yza"
      }
    },
    {
      "cell_type": "markdown",
      "source": [
        "10- What is the significance of hierarchical indexing in Pandas?\n",
        "\n",
        "Hierarchical indexing (also known as multi-level indexing) in Pandas is a powerful feature that allows you to work with higher-dimensional data in a 2D DataFrame or Series. It lets you have multiple (two or more) index levels on rows and/or columns, which provides more flexibility in data organization, analysis, and reshaping.\n",
        "\n",
        "Significance of Hierarchical Indexing\n",
        "1. Represent Multi-Dimensional Data in 2D\n",
        "You can represent data with multiple dimensions (like time, location, product) in a flat 2D DataFrame.\n",
        "\n",
        " Example: Sales data by year, region, and product.\n",
        "\n",
        "2. Easier Grouping and Aggregation\n",
        "\n",
        " Makes it easy to group and aggregate data along multiple dimensions.\n",
        "\n",
        " You can use .groupby(level=...) to summarize data at different hierarchical levels.\n",
        "\n",
        "3. Flexible Data Selection and Slicing\n",
        "You can perform complex queries and slicing using .loc[] with tuples or IndexSlice.\n",
        "\n",
        " Efficient for drilling down into nested levels.\n",
        "\n",
        "4. Powerful Reshaping\n",
        "Hierarchical indexing is essential for reshaping data with methods like:\n",
        "\n",
        " stack() – pivot columns into rows\n",
        "\n",
        " unstack() – pivot rows into columns\n",
        "\n",
        " pivot_table() – create pivot tables with multiple index levels\n",
        "\n",
        "5. Useful for Panel-like Data\n",
        "Panels (3D structures) were deprecated in Pandas, but hierarchical indexing lets you simulate similar structures using MultiIndex DataFrames."
      ],
      "metadata": {
        "id": "JoUIe5I86Au1"
      }
    },
    {
      "cell_type": "markdown",
      "source": [
        "**11- What is the role of Seaborn’s pairplot() function?**\n",
        "\n",
        "The pairplot() function in Seaborn is a powerful tool for visualizing relationships between multiple variables in a dataset, especially when you have numerical features. It is used to create a grid of scatter plots for each pair of features in your dataset, along with histograms or kernel density plots on the diagonal, providing an overview of the data's distributions and relationships.\n",
        "\n",
        "Role of pairplot()\n",
        "Visualizing Pairwise Relationships:\n",
        "\n",
        "pairplot() allows you to quickly visualize pairwise relationships between variables, helping to identify correlations, trends, or patterns across different combinations of features.\n",
        "\n",
        "It plots all combinations of features in a dataset, giving you an idea of how each feature interacts with others.\n",
        "\n",
        "Diagonal Plots for Distributions:\n",
        "\n",
        "On the diagonal, pairplot() typically shows the distribution of each individual feature. By default, it shows histograms, but you can change it to other distribution plots like Kernel Density Estimation (KDE).\n",
        "\n",
        "This helps you understand the distribution (e.g., normal, skewed, bimodal) of each feature.\n",
        "\n",
        "Identifying Correlations:\n",
        "\n",
        "The scatter plots on the off-diagonal plots allow you to see how pairs of features are correlated. For example, linear relationships will show up as straight lines or ellipses, while non-linear relationships might show more complex shapes.\n",
        "\n",
        "It helps to quickly detect if there are any linear or non-linear correlations between the variables.\n",
        "\n",
        "Hue Parameter for Categorization:\n",
        "\n",
        "You can use the hue parameter to color the points by a categorical variable. This allows you to observe how the relationships between numeric features differ across categories.\n",
        "\n",
        "This can highlight potential groupings or differences in the data, e.g., by classifying data points based on a target variable.\n",
        "\n",
        "Exploring High-Dimensional Data:\n",
        "\n",
        "When dealing with datasets that have many variables (high-dimensional), pairplot() gives a convenient, quick way to explore the relationships between features without needing to write custom code for each plot.\n",
        "\n",
        "It provides an overall view of pairwise interactions, which is especially helpful in exploratory data analysis (EDA).\n"
      ],
      "metadata": {
        "id": "ZRGK6JSr6oAU"
      }
    },
    {
      "cell_type": "markdown",
      "source": [
        "**12- What is the purpose of the describe() function in Pandas?**\n",
        "\n",
        "The describe() function in Pandas is a very useful tool for summarizing the statistical properties of a DataFrame or Series. It provides an overview of the distribution, central tendency, and spread of numerical data, making it essential for Exploratory Data Analysis (EDA).\n",
        "\n",
        "Purpose of describe()\n",
        "\n",
        "*Summary of Statistical Metrics:*\n",
        "\n",
        "It quickly generates summary statistics for each numeric column in a DataFrame or for a single Series.\n",
        "\n",
        "These statistics typically include:\n",
        "\n",
        "Count: Number of non-null entries.\n",
        "\n",
        "Mean: Average value.\n",
        "\n",
        "Standard Deviation: Measure of the spread or variability.\n",
        "\n",
        "Minimum: The smallest value.\n",
        "\n",
        "25th Percentile (Q1): The value below which 25% of the data falls (lower quartile).\n",
        "\n",
        "50th Percentile (Q2): The median, or middle value of the dataset.\n",
        "\n",
        "75th Percentile (Q3): The value below which 75% of the data falls (upper quartile).\n",
        "\n",
        "Maximum: The largest value.\n",
        "\n",
        "*Quick Data Inspection:*\n",
        "\n",
        "Helps you quickly assess the central tendency and spread of your numerical data.\n",
        "\n",
        "Useful for identifying outliers, skewness, and other key characteristics of the data.\n",
        "\n",
        "*Works for Both DataFrame and Series:*\n",
        "\n",
        "If applied to a DataFrame, it computes statistics for each column.\n",
        "\n",
        "If applied to a Series, it computes statistics for that single column.\n",
        "\n",
        "*Works for Categorical Data (with include='object'):*\n",
        "\n",
        "By default, describe() works on numeric columns, but you can also include categorical (non-numeric) columns by setting the include parameter to object or 'all'.\n",
        "\n",
        "*Helps Identify Missing Data:*\n",
        "\n",
        "The count value helps identify the number of non-null values in each column. This can give you a quick sense of how much data might be missing."
      ],
      "metadata": {
        "id": "QQv3HVwk680H"
      }
    },
    {
      "cell_type": "markdown",
      "source": [
        "**13- Why is handling missing data important in Pandas?**\n",
        "\n",
        "Handling missing data is an essential part of data cleaning and preparation in Pandas (and in data science in general) because missing or incomplete data can lead to incorrect analysis, biased results, or even errors in machine learning models. Without proper handling, missing data can severely affect the quality and integrity of your dataset.\n",
        "\n",
        "Why Handling Missing Data is Important:\n",
        "\n",
        "*Data Integrity:*\n",
        "\n",
        "Missing values can distort the analysis and lead to misleading conclusions. If not dealt with, they can skew the statistical summaries (like mean, standard deviation) and lead to incorrect inferences.\n",
        "\n",
        "Impact on Machine Learning Models:\n",
        "\n",
        "Most machine learning algorithms (like Linear Regression, Logistic Regression, etc.) cannot handle missing data directly. If missing data is not handled properly, models may either:\n",
        "\n",
        "*Fail to train.*\n",
        "\n",
        "Perform poorly due to incomplete feature sets.\n",
        "\n",
        "Biased Results:\n",
        "\n",
        "If the missing data is not random (e.g., if certain categories or classes are more likely to have missing values), it can introduce bias. For example, if one class in a classification problem has more missing data than others, the model may be trained with biased information, leading to poor performance.\n",
        "\n",
        "Loss of Valuable Information:\n",
        "\n",
        "If you drop rows or columns with missing data without considering their importance, you may lose valuable information. For example, removing all rows with missing values in a large dataset could eliminate an important subset of data.\n",
        "\n",
        "Handling Missing Data for Visualizations:\n",
        "\n",
        "In visualization, missing values can cause incomplete plots, misleading graphs, or prevent meaningful comparisons between groups.\n",
        "\n"
      ],
      "metadata": {
        "id": "D8TCmVLY7sEj"
      }
    },
    {
      "cell_type": "markdown",
      "source": [
        "**14- What are the benefits of using Plotly for data visualization?**\n",
        "\n",
        "Plotly is a powerful and flexible data visualization library in Python that is widely used for creating interactive, visually appealing plots and dashboards. It offers several benefits over other visualization libraries like Matplotlib and Seaborn, especially in terms of interactivity, ease of use, and integration with web technologies\n",
        "\n",
        "Benefits of Using Plotly for Data Visualization\n",
        "\n",
        "1. Interactive Plots\n",
        "\n",
        "Interactivity is one of Plotly’s key strengths. Unlike static libraries like Matplotlib, Plotly allows users to create highly interactive plots that let users zoom, pan, hover, and click to explore data in more detail.\n",
        "\n",
        "Common interactive features include:\n",
        "\n",
        "Hover tooltips: Display additional information when you hover over data points.\n",
        "\n",
        "Zoom & Pan: Allows you to zoom into specific areas of the plot or pan across the axes.\n",
        "\n",
        "Legend: Toggle visibility of plot traces dynamically.\n",
        "\n",
        "Example: In a scatter plot, you can hover over a point to get additional data details, zoom into a region, or change the trace colors dynamically.\n",
        "\n",
        "2. Beautiful and Modern Aesthetic\n",
        "\n",
        "Plotly produces beautiful and modern plots by default, which is particularly useful for data presentation or dashboards.\n",
        "\n",
        "Its plots are visually appealing and require less manual customization compared to libraries like Matplotlib.\n",
        "\n",
        "Plotly’s plots look great even without heavy styling, making it easier to produce high-quality visualizations quickly.\n",
        "\n",
        "3. Web Integration\n",
        "\n",
        "Plotly is designed to work seamlessly with web technologies, and it can generate interactive HTML visualizations that can be embedded in web pages.\n",
        "\n",
        "Plots created in Plotly can be easily integrated into web applications, especially with Dash (another Plotly framework), allowing you to create fully interactive dashboards.\n",
        "\n",
        "You can export interactive Plotly plots as standalone HTML files for sharing or embedding in websites.\n",
        "\n",
        "4. Ease of Use\n",
        "\n",
        "Plotly’s API is intuitive and high-level, making it easy to create complex visualizations with relatively simple code.\n",
        "\n",
        "Unlike Matplotlib, which requires more detailed control and can become verbose for complex plots, Plotly provides an easy-to-use interface for creating complex plots like heatmaps, scatter plots, 3D plots, etc.\n",
        "\n",
        "Plotly Express, an easy-to-use interface, is available for quickly creating plots with minimal code.\n",
        "\n",
        "5. Support for Complex and 3D Visualizations\n",
        "\n",
        "Plotly excels in creating 3D visualizations (scatter plots, surface plots, etc.), which are often complex to implement with other libraries.\n",
        "\n",
        "It supports 3D scatter plots, surface plots, mesh plots, and more.\n",
        "\n",
        "Plotly’s ability to handle multidimensional data in an interactive and visually engaging way is especially helpful for scientific research and engineering tasks.\n",
        "\n",
        "Example:\n",
        "\n",
        "python\n",
        "Copy\n",
        "Edit\n",
        "import plotly.express as px\n",
        "fig = px.scatter_3d(df, x='x_column', y='y_column', z='z_column', color='category')\n",
        "fig.show()\n",
        "6. Customizable and Flexible\n",
        "\n",
        "Plotly allows for a high degree of customization:\n",
        "\n",
        "You can adjust the appearance of axes, colors, markers, and legends.\n",
        "\n",
        "Modify the layout and annotations with easy-to-use layout functions.\n",
        "\n",
        "It provides a range of options for customization, from the appearance of the plot to the details displayed when hovering over data points.\n",
        "\n",
        "7. Wide Range of Plot Types\n",
        "\n",
        "Plotly supports a wide variety of plots, including but not limited to:\n",
        "\n",
        "2D and 3D scatter plots\n",
        "\n",
        "Line and bar plots\n",
        "\n",
        "Box plots\n",
        "\n",
        "Heatmaps\n",
        "\n",
        "Contour plots\n",
        "\n",
        "Pie charts\n",
        "\n",
        "Bubble charts\n",
        "\n",
        "Sunburst charts\n",
        "\n",
        "Radar charts\n",
        "\n",
        "Gantt charts\n",
        "\n",
        "It allows for combining multiple plot types within one figure (subplots).\n",
        "\n",
        "8. Integration with Data Science Ecosystem\n",
        "\n",
        "Plotly works seamlessly with popular Python libraries, such as Pandas, NumPy, SciPy, and Jupyter notebooks.\n",
        "\n",
        "This makes it very easy to integrate with data analysis pipelines.\n",
        "\n",
        "Plotly Express integrates particularly well with Pandas DataFrame objects, making it simple to visualize data from a DataFrame directly.\n",
        "\n",
        "9. Cross-platform Compatibility\n",
        "\n",
        "Plotly can be used across multiple platforms: Jupyter Notebooks, Google Colab, web browsers, desktop applications, etc.\n",
        "\n",
        "Its interactive nature allows users to explore plots on different devices, which is especially useful in collaborative environments.\n",
        "\n",
        "10. Supports Animations\n",
        "\n",
        "Plotly can create animated visualizations that help to illustrate changes over time or dynamically update data.\n",
        "\n",
        "This feature is particularly useful for time series data, simulations, or showing transitions in data points.\n",
        "\n",
        "Example: Create an animated line plot of a time series where each point appears step by step over time.\n",
        "\n",
        "11. High-Quality Visualizations\n",
        "\n",
        "The plots generated by Plotly are high-resolution and suitable for use in reports, presentations, and publications.\n",
        "\n",
        "They also support various export formats, such as PNG, JPG, PDF, and SVG, while maintaining quality.\n",
        "\n",
        "12. Open-Source and Free\n",
        "Plotly is open-source, and it has extensive documentation and community support.\n",
        "\n",
        "While Plotly also offers premium features through Plotly Enterprise, many of its features are available for free, making it accessible for individual users and small teams."
      ],
      "metadata": {
        "id": "X2jvcxTx8FG-"
      }
    },
    {
      "cell_type": "code",
      "source": [],
      "metadata": {
        "id": "gOGlFG7R87-_"
      },
      "execution_count": null,
      "outputs": []
    },
    {
      "cell_type": "markdown",
      "source": [
        "**15- How does NumPy handle multidimensional arrays?**\n",
        "\n",
        "NumPy is a powerful Python library for numerical computing, and one of its key features is its ability to handle multidimensional arrays (also known as ndarrays). NumPy provides an efficient and flexible way to store and manipulate multidimensional data, which is especially useful for scientific computing, data analysis, and machine learning tasks.\n",
        "\n",
        "How NumPy Handles Multidimensional Arrays\n",
        "\n",
        "1. Creating Multidimensional Arrays\n",
        "NumPy arrays can have multiple dimensions, allowing you to represent data in 2D, 3D, or higher-dimensional structures. The most common multidimensional arrays are 2D arrays (matrices) and 3D arrays (tensors).\n",
        "\n",
        "2D Array (Matrix): A matrix with rows and columns.\n",
        "\n",
        "3D Array (Tensor): A three-dimensional array (think of it as a stack of matrices).\n",
        "\n",
        "2. Shape and Dimensions of Multidimensional Arrays\n",
        "\n",
        "The shape of a NumPy array describes the number of elements along each axis (dimension). You can access the shape of an array using the shape attribute, which returns a tuple of integers indicating the size of each dimension.\n",
        "\n",
        "Shape: The tuple that represents the size of the array along each dimension.\n",
        "\n",
        "ndim: The number of dimensions (axes) in the array.\n",
        "\n",
        "3. Indexing and Slicing Multidimensional Arrays\n",
        "\n",
        "Indexing: You can access elements in a multidimensional array using indices for each dimension, separated by commas.\n",
        "\n",
        "Slicing: You can extract subarrays using slicing (like in lists, but for each axis).\n",
        "\n",
        "4. Reshaping Multidimensional Arrays\n",
        "\n",
        "NumPy allows you to reshape arrays to different dimensions, provided the total number of elements remains the same.\n",
        "\n",
        "reshape(): Used to change the shape of an array.\n",
        "\n",
        "It does not modify the original array; instead, it returns a new array with the specified shape.\n",
        "\n",
        "5. Broadcasting in Multidimensional Arrays\n",
        "\n",
        "Broadcasting is a powerful feature in NumPy that allows you to perform arithmetic operations on arrays of different shapes. NumPy automatically expands the smaller array to match the larger array's shape without making copies of the data.\n",
        "\n",
        "6. Mathematical Operations on Multidimensional Arrays\n",
        "\n",
        "NumPy allows you to perform vectorized mathematical operations on entire arrays or specific axes without the need for explicit loops.\n",
        "\n",
        "7. Aggregation and Reduction Operations\n",
        "\n",
        "NumPy supports various aggregation functions for multidimensional arrays, such as sum(), mean(), min(), max(), std(), etc., that operate along specific axes or across the entire array."
      ],
      "metadata": {
        "id": "cGCYkJPQ94e4"
      }
    },
    {
      "cell_type": "markdown",
      "source": [
        "**16-What is the role of Bokeh in data visualization?**\n",
        "\n",
        "Bokeh is a powerful and interactive data visualization library for Python that is particularly well-suited for creating interactive, web-based visualizations. Bokeh allows you to build complex and customizable visualizations that can be easily embedded in web applications or dashboards. Its emphasis is on creating interactive plots, which can be especially useful for exploring large datasets or displaying real-time data.\n",
        "\n",
        "Role of Bokeh in Data Visualization\n",
        "\n",
        "Here are the key roles that Bokeh plays in data visualization:\n",
        "\n",
        "1. Interactive Visualizations\n",
        "Bokeh's core strength is its ability to create highly interactive visualizations with ease. Users can interact with plots by zooming, panning, hovering, and clicking on data points to get more information.\n",
        "\n",
        "It allows for real-time interactivity, which is ideal for visualizing large datasets where users need to drill down or explore data from different angles.\n",
        "\n",
        "Interactive elements like sliders, buttons, and dropdown menus can be added to enable users to modify the visualization dynamically.\n",
        "\n",
        "Example: A user could zoom in to focus on a specific range of data, or hover over a scatter plot to see details of the data points (e.g., values, labels, or annotations).\n",
        "\n",
        "2. Web-Ready Output\n",
        "\n",
        "Bokeh is designed to work seamlessly in web environments. It can generate HTML-based visualizations that can be embedded directly into web pages, making it ideal for web-based applications, dashboards, and interactive reporting.\n",
        "\n",
        "Bokeh uses JavaScript for rendering, which ensures that visualizations are rendered efficiently and responsively in web browsers.\n",
        "\n",
        "It allows you to create standalone HTML files or Bokeh server apps that can update plots based on real-time data or user inputs.\n",
        "\n",
        "Example: You can generate an interactive line chart in Python, export it as an HTML file, and embed it in a webpage without needing any server-side infrastructure.\n",
        "\n",
        "3. Data Exploration and Dashboards\n",
        "\n",
        "Bokeh provides the tools to build interactive dashboards that combine multiple plots into a single view. This is particularly useful for exploratory data analysis (EDA), where users want to compare and analyze multiple visualizations at the same time.\n",
        "\n",
        "Bokeh allows you to create complex layouts with various components like widgets (sliders, dropdowns, checkboxes, etc.), plots, and tabs in a flexible layout system.\n",
        "\n",
        "It integrates well with other tools like Pandas, NumPy, and Jupyter notebooks, making it a powerful choice for quick, interactive exploration of datasets.\n",
        "\n",
        "Example: A dashboard could include a scatter plot of two variables, a bar chart showing categorical data, and a dropdown menu for filtering the data, all dynamically updating based on user interaction.\n",
        "\n",
        "4. Customizable and Extensible\n",
        "Bokeh provides fine-grained control over the appearance and behavior of plots. You can customize nearly every aspect of a visualization, including colors, tooltips, axis labels, legends, and more.\n",
        "\n",
        "It supports a wide range of plot types (line plots, bar charts, scatter plots, heatmaps, etc.), and you can also create custom visualizations or even 3D visualizations with additional libraries.\n",
        "\n",
        "Bokeh's extensibility allows you to integrate it with other web frameworks and tools, such as Flask or Django, and build interactive web applications with customized functionality.\n",
        "\n",
        "Example: You could create a scatter plot with custom color gradients, and add a dynamic hover tool that shows different statistical details for each data point.\n",
        "\n",
        "5. Real-Time Data and Streaming\n",
        "Bokeh supports real-time streaming of data, which is useful for visualizing data that is constantly changing, such as financial data, sensor data, or live events.\n",
        "\n",
        "With the Bokeh server, you can create applications that continuously update the visualizations in response to live data feeds, without needing to reload the page or the plot.\n",
        "\n",
        "This feature is crucial for applications like monitoring dashboards or live data analytics, where up-to-date visualizations are critical.\n",
        "\n",
        "Example: A live line chart that shows the temperature readings from a sensor and updates every second as new data is received.\n",
        "\n",
        "6. Integration with Other Libraries\n",
        "Bokeh integrates well with other libraries in the Python ecosystem, particularly those used in data science, such as Pandas, NumPy, and Matplotlib.\n",
        "\n",
        "You can easily convert data from a Pandas DataFrame into a format that Bokeh can visualize, and you can combine Bokeh with libraries like Holoviews and Panel for even more advanced features and custom visualizations.\n",
        "\n",
        "It also supports integration with Jupyter notebooks, where you can display interactive visualizations directly in the notebook.\n",
        "\n",
        "Example: You can use Pandas to manipulate your dataset, then pass the processed data to Bokeh for visualization, all within the same workflow.\n",
        "\n",
        "7. Wide Range of Visualization Types\n",
        "Bokeh supports a variety of plot types, including:\n",
        "\n",
        "Basic charts: Line, scatter, bar, histogram, and area charts.\n",
        "\n",
        "Statistical plots: Box plots, heatmaps, and density plots.\n",
        "\n",
        "Geospatial plots: Maps, choropleth maps, and other spatial visualizations.\n",
        "\n",
        "Network plots: Graphs and network diagrams.\n",
        "\n",
        "Specialized visualizations: Candlestick charts, time series, and custom visualizations.\n",
        "\n",
        "It also supports multiple plots in a single figure, which is useful for creating complex, composite visualizations.\n",
        "\n",
        "8. Tools and Widgets for Interactivity\n",
        "Bokeh provides a wide range of tools for interactivity, such as:\n",
        "\n",
        "Zoom and pan: Users can zoom into specific regions of a plot or pan across it.\n",
        "\n",
        "Hover: Show additional information when the user hovers over data points.\n",
        "\n",
        "Selection tools: Users can select specific data points or ranges and interact with them.\n",
        "\n",
        "Custom widgets: Add interactive elements like sliders, buttons, and text boxes to control the plot (e.g., adjust filters or update data).\n",
        "\n"
      ],
      "metadata": {
        "id": "OQiNASw6_AVz"
      }
    },
    {
      "cell_type": "markdown",
      "source": [
        "**17-Explain the difference between apply() and map() in Pandas?**\n",
        "\n",
        "In Pandas, both apply() and map() are used to apply functions to data, but they serve different purposes and are used in different contexts. Here's a clear explanation of the differences between them:\n",
        "\n",
        "| Feature                    | `map()`                        | `apply()`                              |\n",
        "| -------------------------- | ------------------------------ | -------------------------------------- |\n",
        "| **Used on**                | Series                         | Series or DataFrame                    |\n",
        "| **Works element-wise**     | Yes                            | Yes (for Series); Row/Column-wise (DF) |\n",
        "| **Accepts dictionary**     | Yes                            | No                                     |\n",
        "| **Used for**               | Simple element-wise transforms | Complex row/column logic               |\n",
        "| **Supports axis argument** | No                             | Yes (for DataFrame only)               |\n"
      ],
      "metadata": {
        "id": "ECmk1v6Dftqv"
      }
    },
    {
      "cell_type": "markdown",
      "source": [
        "**18- What are some advanced features of NumPy?**\n",
        "\n",
        "NumPy (Numerical Python) is a foundational library in Python for numerical computing. Beyond basic array operations, it offers several advanced features that power efficient, high-performance computing and data analysis. Here are some of the most powerful and advanced features of NumPy:\n",
        "\n",
        "1. Broadcasting\n",
        "\n",
        " Definition: Allows arithmetic operations between arrays of different shapes without explicit replication.\n",
        "\n",
        " Use case: Vectorizing operations to avoid explicit loops.\n",
        "\n",
        "2. Vectorization\n",
        "\n",
        " Definition: Replaces explicit Python loops with array operations, improving performance.\n",
        "\n",
        " Benefit: Much faster due to internal implementation in C.\n",
        "\n",
        "3. Structured Arrays (Record Arrays)\n",
        "\n",
        " Definition: Arrays with named fields (similar to tables with columns).\n",
        "\n",
        " Use case: Storing heterogeneous data types in a single array.\n",
        "\n",
        "4. Masked Arrays\n",
        "\n",
        " Definition: Arrays that can mask or ignore specific entries (like NaNs or invalid values).\n",
        "\n",
        " Use case: Handling missing or invalid data in numerical computations.\n",
        "\n",
        "5. Memory Mapping (mmap)\n",
        "\n",
        " Definition: Access large files stored on disk as if they were NumPy arrays.\n",
        "\n",
        " Use case: Efficient I/O and working with datasets larger than RAM.\n",
        "\n",
        "6. Advanced Indexing and Slicing\n",
        "\n",
        "  Types:\n",
        "\n",
        " Boolean indexing\n",
        "\n",
        " Integer array indexing\n",
        "\n",
        " Fancy indexing\n",
        "\n",
        " Use case: Selecting specific elements or subsets with high flexibility.\n",
        "\n",
        "7. Universal Functions (ufuncs)\n",
        "\n",
        " Definition: Vectorized wrappers for element-wise operations written in C.\n",
        "\n",
        " Use case: Fast, element-wise operations like np.sin, np.exp, np.add, etc.\n",
        "\n",
        "8. Linear Algebra Support\n",
        "\n",
        " Via numpy.linalg module:\n",
        "\n",
        " Matrix multiplication\n",
        "\n",
        " Inverses and determinants\n",
        "\n",
        " Eigenvalues and SVD\n",
        "\n",
        "9. Random Number Generation\n",
        "\n",
        " numpy.random provides tools for:\n",
        "\n",
        " Uniform, normal, binomial distributions\n",
        "\n",
        " Random sampling\n",
        "\n",
        " Permutations\n",
        "\n",
        "10. FFT and Signal Processing\n",
        "\n",
        " numpy.fft: Fast Fourier Transform for frequency domain analysis."
      ],
      "metadata": {
        "id": "I1TLpnjJgveb"
      }
    },
    {
      "cell_type": "markdown",
      "source": [
        "**19- How does Pandas simplify time series analysis?**\n",
        "\n",
        "Pandas simplifies time series analysis by providing powerful tools and data structures specifically designed to handle time-indexed data efficiently. It enables users to perform operations like date parsing, resampling, shifting, and windowing with just a few lines of code.\n",
        "\n",
        "Here are the key ways Pandas makes time series analysis easier:\n",
        "\n",
        "1. Datetime Indexing\n",
        "\n",
        " Pandas supports DatetimeIndex, which allows easy indexing and slicing of time-based data.\n",
        "\n",
        "2. Date Parsing and Conversion\n",
        "\n",
        "Pandas can automatically parse date strings into datetime objects using pd.to_datetime().\n",
        "\n",
        "3. Resampling\n",
        "\n",
        "Resampling allows us to change the frequency of your time series (e.g., from daily to monthly) and apply aggregations like mean or sum.\n",
        "\n",
        "4. Time Shifting and Lagging\n",
        "\n",
        " We can shift time series data forward or backward easily:\n",
        "\n",
        "5. Rolling Windows / Moving Averages\n",
        "\n",
        " We can apply rolling window functions like moving averages:\n",
        "\n",
        "6. Datetime Components Extraction\n",
        "\n",
        " we can easily extract parts of a datetime, like year, month, day, etc.\n",
        "\n",
        "7. Handling Missing Time Periods\n",
        "  \n",
        " Pandas helps handle missing time points by reindexing:\n",
        "\n",
        "8. Time Zone Handling\n",
        "\n",
        " Pandas allows conversion between time zones:\n",
        "\n",
        "9. Period and Timedelta Support\n",
        "\n",
        " pd.Period: For representing fixed time intervals (like months, years).\n",
        "\n",
        " pd.Timedelta: For measuring durations or time differences."
      ],
      "metadata": {
        "id": "YL9uLcG-jQQ4"
      }
    },
    {
      "cell_type": "markdown",
      "source": [
        "**20- What is the role of a pivot table in Pandas?**\n",
        "\n",
        "The role of a pivot table in Pandas is to summarize, reorganize, and aggregate data, especially when dealing with large or multi-dimensional datasets. It helps transform data into a more readable and insightful format by grouping rows and columns and applying aggregations like sum(), mean(), count(), etc.\n",
        "\n",
        "Key Functions for Pivoting in Pandas:\n",
        "\n",
        "pivot_table(): Flexible, allows aggregation.\n",
        "\n",
        "pivot(): Simple restructuring, no aggregation."
      ],
      "metadata": {
        "id": "u0t0980tkql0"
      }
    },
    {
      "cell_type": "markdown",
      "source": [
        "**21- Why is NumPy’s array slicing faster than Python’s list slicing?**\n",
        "\n",
        "NumPy’s array slicing is faster than Python’s list slicing primarily due to the way NumPy is implemented and how memory is managed. Here's a breakdown of the key reasons:\n",
        "\n",
        "1. Contiguous Memory Layout\n",
        "NumPy arrays are stored in contiguous blocks of memory, like C arrays.\n",
        "\n",
        "Python lists are arrays of pointers to objects scattered in memory.\n",
        "\n",
        "2. Fixed Data Types\n",
        "NumPy arrays have a uniform data type (dtype), which allows for:\n",
        "\n",
        "Optimized operations at the hardware level\n",
        "\n",
        "SIMD (Single Instruction, Multiple Data) operations\n",
        "\n",
        "3. View Instead of Copy\n",
        "NumPy slicing creates a view (a lightweight object pointing to the same data).\n",
        "\n",
        "Python list slicing creates a new list copy every time.\n",
        "\n",
        "4. C-Level Optimizations\n",
        "NumPy is implemented in C, which enables low-level optimizations not possible in pure Python.\n",
        "\n",
        "Operations like slicing, reshaping, and broadcasting are highly optimized under the hood.\n",
        "\n",
        "5. No Type Checking Overhead\n",
        "Python lists require runtime type checking and dynamic resolution for every element access.\n",
        "\n",
        "NumPy avoids this by assuming a fixed type, leading to faster execution."
      ],
      "metadata": {
        "id": "pJl86uPwk9qH"
      }
    },
    {
      "cell_type": "markdown",
      "source": [
        "**22- What are some common use cases for Seaborn?**\n",
        "\n",
        "Seaborn is a high-level Python data visualization library built on top of Matplotlib, designed specifically for statistical data visualization. It provides a simple interface for creating informative and attractive graphics.\n",
        "\n",
        "Here are some common use cases for Seaborn:\n",
        "\n",
        "1. Exploratory Data Analysis (EDA)\n",
        "\n",
        "Seaborn is widely used during EDA to understand distributions, relationships, and trends in data.\n",
        "\n",
        "Plot distributions using histplot(), kdeplot(), or displot().\n",
        "\n",
        "Summarize categorical data using countplot() or barplot().\n",
        "\n",
        "2. Visualizing Relationships Between Variables\n",
        "\n",
        "Seaborn makes it easy to examine how two or more variables relate to each other.\n",
        "\n",
        "scatterplot(): Basic relationship between two numeric variables.\n",
        "\n",
        "lineplot(): Trends over time or continuous data.\n",
        "\n",
        "regplot() / lmplot(): Show linear regression fits.\n",
        "\n",
        "3. Comparing Distributions\n",
        "\n",
        "You can compare the distribution of a variable across categories or groups.\n",
        "\n",
        "boxplot(): Show quartiles, medians, and outliers.\n",
        "\n",
        "violinplot(): Combines boxplot and KDE.\n",
        "\n",
        "swarmplot() / stripplot(): Show individual data points.\n",
        "\n",
        "4. Heatmaps and Correlation Analysis\n",
        "\n",
        "heatmap(): Used to visualize correlation matrices or any matrix-like data.\n",
        "\n",
        "5. Multivariate Visualization\n",
        "\n",
        "Seaborn supports plotting multiple variables in a single visualization.\n",
        "\n",
        "pairplot(): Pairwise scatter plots and histograms.\n",
        "\n",
        "pairplot(hue=): Color by category to see group differences.\n",
        "\n",
        "FacetGrid / catplot(): Split data into subplots by category.\n",
        "\n",
        "6. Categorical Data Visualization\n",
        "\n",
        "Quickly understand how data varies by category:\n",
        "\n",
        "barplot() — mean of a numeric variable by category\n",
        "\n",
        "countplot() — count of observations by category\n",
        "\n",
        "pointplot() — track mean and confidence interval over time or order\n",
        "\n",
        "7. Statistical Aggregation and Error Bars\n",
        "\n",
        "Seaborn automatically computes statistical estimates and includes error bars:\n",
        "\n",
        "Mean, median, confidence intervals (with ci parameter)\n",
        "\n",
        "Useful for summarizing large datasets\n",
        "\n",
        "🔹 8. Styling and Aesthetics\n",
        "\n",
        "Seaborn has built-in themes and palettes to make plots aesthetically pleasing with minimal code."
      ],
      "metadata": {
        "id": "L5kQhAEel2ii"
      }
    },
    {
      "cell_type": "markdown",
      "source": [
        "***Practical***"
      ],
      "metadata": {
        "id": "R1htGkt8mrxD"
      }
    },
    {
      "cell_type": "markdown",
      "source": [
        "**1- How do you create a 2D NumPy array and calculate the sum of each row?**"
      ],
      "metadata": {
        "id": "-UWj2LBImtoX"
      }
    },
    {
      "cell_type": "code",
      "source": [
        "import numpy as np\n",
        "\n",
        "# Create a 2D NumPy array (3 rows, 4 columns)\n",
        "arr = np.array([\n",
        "    [1, 2, 3, 4],\n",
        "    [5, 6, 7, 8],\n",
        "    [9, 10, 11, 12]\n",
        "])\n",
        "\n",
        "# Calculate sum of each row\n",
        "row_sums = np.sum(arr, axis=1)\n",
        "\n",
        "print(\"2D Array:\\n\", arr)\n",
        "print(\"Sum of each row:\", row_sums)\n"
      ],
      "metadata": {
        "colab": {
          "base_uri": "https://localhost:8080/"
        },
        "id": "LfPE9glHnA4-",
        "outputId": "f9ca6a11-c5b8-4e05-da66-265b5f63c0d3"
      },
      "execution_count": 1,
      "outputs": [
        {
          "output_type": "stream",
          "name": "stdout",
          "text": [
            "2D Array:\n",
            " [[ 1  2  3  4]\n",
            " [ 5  6  7  8]\n",
            " [ 9 10 11 12]]\n",
            "Sum of each row: [10 26 42]\n"
          ]
        }
      ]
    },
    {
      "cell_type": "markdown",
      "source": [
        "**2- Write a Pandas script to find the mean of a specific column in a DataFrame.**"
      ],
      "metadata": {
        "id": "Vxj9ok2LnGKn"
      }
    },
    {
      "cell_type": "code",
      "source": [
        "import pandas as pd\n",
        "\n",
        "# Sample data\n",
        "data = {\n",
        "    'Name': ['Bibhu', 'Anand', 'Raaj', 'Santhosh'],\n",
        "    'Age': [25, 30, 35, 40],\n",
        "    'Score': [85, 90, 88, 92]\n",
        "}\n",
        "\n",
        "# Create DataFrame\n",
        "df = pd.DataFrame(data)\n",
        "\n",
        "# Find mean of the 'Score' column\n",
        "mean_score = df['Score'].mean()\n",
        "\n",
        "print(\"Mean of 'Score' column:\", mean_score)\n"
      ],
      "metadata": {
        "colab": {
          "base_uri": "https://localhost:8080/"
        },
        "id": "vQVw54uFnSOF",
        "outputId": "0080221a-6a7d-45fd-d1b0-f4baa66f9797"
      },
      "execution_count": 2,
      "outputs": [
        {
          "output_type": "stream",
          "name": "stdout",
          "text": [
            "Mean of 'Score' column: 88.75\n"
          ]
        }
      ]
    },
    {
      "cell_type": "markdown",
      "source": [
        "**3- Create a scatter plot using Matplotlib.**"
      ],
      "metadata": {
        "id": "4eUCtNmkniFa"
      }
    },
    {
      "cell_type": "code",
      "source": [
        "import matplotlib.pyplot as plt\n",
        "\n",
        "# Sample data\n",
        "x = [10, 20, 30, 40, 50]\n",
        "y = [15, 25, 35, 30, 45]\n",
        "\n",
        "# Create a scatter plot\n",
        "plt.scatter(x, y, color='blue', marker='o', s=100)\n",
        "\n",
        "# Add labels and title\n",
        "plt.xlabel('X Axis')\n",
        "plt.ylabel('Y Axis')\n",
        "plt.title('Sample Scatter Plot')\n",
        "\n",
        "# Show grid and plot\n",
        "plt.grid(True)\n",
        "plt.show()\n"
      ],
      "metadata": {
        "colab": {
          "base_uri": "https://localhost:8080/",
          "height": 472
        },
        "id": "DE3N16LJn39g",
        "outputId": "6259492e-9743-47d2-e849-911859517c04"
      },
      "execution_count": 3,
      "outputs": [
        {
          "output_type": "display_data",
          "data": {
            "text/plain": [
              "<Figure size 640x480 with 1 Axes>"
            ],
            "image/png": "[encoded data removed]"
          },
          "metadata": {}
        }
      ]
    },
    {
      "cell_type": "markdown",
      "source": [
        "**4- How do you calculate the correlation matrix using Seaborn and visualize it with a heatmap?**"
      ],
      "metadata": {
        "id": "aQ9jH27WoG5j"
      }
    },
    {
      "cell_type": "code",
      "source": [
        "import seaborn as sns\n",
        "import matplotlib.pyplot as plt\n",
        "import pandas as pd\n",
        "\n",
        "# Sample data\n",
        "data = {\n",
        "    'A': [1, 2, 3, 4, 5],\n",
        "    'B': [5, 4, 3, 2, 1],\n",
        "    'C': [2, 3, 4, 5, 6],\n",
        "    'D': [6, 7, 8, 9, 10]\n",
        "}\n",
        "\n",
        "# Create a DataFrame\n",
        "df = pd.DataFrame(data)\n",
        "\n",
        "# Calculate the correlation matrix\n",
        "corr_matrix = df.corr()\n",
        "\n",
        "# Visualize the correlation matrix with a heatmap\n",
        "sns.heatmap(corr_matrix, annot=True, cmap='coolwarm', linewidths=0.5)\n",
        "\n",
        "# Show the plot\n",
        "plt.title('Correlation Matrix Heatmap')\n",
        "plt.show()\n"
      ],
      "metadata": {
        "colab": {
          "base_uri": "https://localhost:8080/",
          "height": 452
        },
        "id": "JUlqtSn7ob0e",
        "outputId": "2d046340-1d74-4a3c-d906-9ab594c51a00"
      },
      "execution_count": 4,
      "outputs": [
        {
          "output_type": "display_data",
          "data": {
            "text/plain": [
              "<Figure size 640x480 with 2 Axes>"
            ],
            "image/png": "[encoded data removed]"
          },
          "metadata": {}
        }
      ]
    },
    {
      "cell_type": "markdown",
      "source": [
        "**5- Generate a bar plot using Plotly.**"
      ],
      "metadata": {
        "id": "0SAtBX0OopHv"
      }
    },
    {
      "cell_type": "code",
      "source": [
        "import plotly.express as px\n",
        "\n",
        "# Sample data\n",
        "data = {\n",
        "    'Product': ['A', 'B', 'C', 'D'],\n",
        "    'Sales': [100, 200, 150, 250]\n",
        "}\n",
        "\n",
        "# Create a bar plot\n",
        "fig = px.bar(data, x='Product', y='Sales', title='Product Sales')\n",
        "\n",
        "# Show the plot\n",
        "fig.show()\n"
      ],
      "metadata": {
        "colab": {
          "base_uri": "https://localhost:8080/",
          "height": 542
        },
        "id": "G4bSu2hzo7rv",
        "outputId": "43e3096d-77a7-4032-d8e7-0d6c8ac610cb"
      },
      "execution_count": 5,
      "outputs": [
        {
          "output_type": "display_data",
          "data": {
            "text/html": [
              "<html>\n",
              "<head><meta charset=\"utf-8\" /></head>\n",
              "<body>\n",
              "    <div>            <script src=\"https://cdnjs.cloudflare.com/ajax/libs/mathjax/2.7.5/MathJax.js?config=TeX-AMS-MML_SVG\"></script><script type=\"text/javascript\">if (window.MathJax && window.MathJax.Hub && window.MathJax.Hub.Config) {window.MathJax.Hub.Config({SVG: {font: \"STIX-Web\"}});}</script>                <script type=\"text/javascript\">window.PlotlyConfig = {MathJaxConfig: 'local'};</script>\n",
              "        <script charset=\"utf-8\" src=\"https://cdn.plot.ly/plotly-2.35.2.min.js\"></script>                <div id=\"982e40fa-d79e-4d97-900f-c7d77dd93633\" class=\"plotly-graph-div\" style=\"height:525px; width:100%;\"></div>            <script type=\"text/javascript\">                                    window.PLOTLYENV=window.PLOTLYENV || {};                                    if (document.getElementById(\"982e40fa-d79e-4d97-900f-c7d77dd93633\")) {                    Plotly.newPlot(                        \"982e40fa-d79e-4d97-900f-c7d77dd93633\",                        [{\"alignmentgroup\":\"True\",\"hovertemplate\":\"Product=%{x}\\u003cbr\\u003eSales=%{y}\\u003cextra\\u003e\\u003c\\u002fextra\\u003e\",\"legendgroup\":\"\",\"marker\":{\"color\":\"#636efa\",\"pattern\":{\"shape\":\"\"}},\"name\":\"\",\"offsetgroup\":\"\",\"orientation\":\"v\",\"showlegend\":false,\"textposition\":\"auto\",\"x\":[\"A\",\"B\",\"C\",\"D\"],\"xaxis\":\"x\",\"y\":[100,200,150,250],\"yaxis\":\"y\",\"type\":\"bar\"}],                        {\"template\":{\"data\":{\"histogram2dcontour\":[{\"type\":\"histogram2dcontour\",\"colorbar\":{\"outlinewidth\":0,\"ticks\":\"\"},\"colorscale\":[[0.0,\"#0d0887\"],[0.1111111111111111,\"#46039f\"],[0.2222222222222222,\"#7201a8\"],[0.3333333333333333,\"#9c179e\"],[0.4444444444444444,\"#bd3786\"],[0.5555555555555556,\"#d8576b\"],[0.6666666666666666,\"#ed7953\"],[0.7777777777777778,\"#fb9f3a\"],[0.8888888888888888,\"#fdca26\"],[1.0,\"#f0f921\"]]}],\"choropleth\":[{\"type\":\"choropleth\",\"colorbar\":{\"outlinewidth\":0,\"ticks\":\"\"}}],\"histogram2d\":[{\"type\":\"histogram2d\",\"colorbar\":{\"outlinewidth\":0,\"ticks\":\"\"},\"colorscale\":[[0.0,\"#0d0887\"],[0.1111111111111111,\"#46039f\"],[0.2222222222222222,\"#7201a8\"],[0.3333333333333333,\"#9c179e\"],[0.4444444444444444,\"#bd3786\"],[0.5555555555555556,\"#d8576b\"],[0.6666666666666666,\"#ed7953\"],[0.7777777777777778,\"#fb9f3a\"],[0.8888888888888888,\"#fdca26\"],[1.0,\"#f0f921\"]]}],\"heatmap\":[{\"type\":\"heatmap\",\"colorbar\":{\"outlinewidth\":0,\"ticks\":\"\"},\"colorscale\":[[0.0,\"#0d0887\"],[0.1111111111111111,\"#46039f\"],[0.2222222222222222,\"#7201a8\"],[0.3333333333333333,\"#9c179e\"],[0.4444444444444444,\"#bd3786\"],[0.5555555555555556,\"#d8576b\"],[0.6666666666666666,\"#ed7953\"],[0.7777777777777778,\"#fb9f3a\"],[0.8888888888888888,\"#fdca26\"],[1.0,\"#f0f921\"]]}],\"heatmapgl\":[{\"type\":\"heatmapgl\",\"colorbar\":{\"outlinewidth\":0,\"ticks\":\"\"},\"colorscale\":[[0.0,\"#0d0887\"],[0.1111111111111111,\"#46039f\"],[0.2222222222222222,\"#7201a8\"],[0.3333333333333333,\"#9c179e\"],[0.4444444444444444,\"#bd3786\"],[0.5555555555555556,\"#d8576b\"],[0.6666666666666666,\"#ed7953\"],[0.7777777777777778,\"#fb9f3a\"],[0.8888888888888888,\"#fdca26\"],[1.0,\"#f0f921\"]]}],\"contourcarpet\":[{\"type\":\"contourcarpet\",\"colorbar\":{\"outlinewidth\":0,\"ticks\":\"\"}}],\"contour\":[{\"type\":\"contour\",\"colorbar\":{\"outlinewidth\":0,\"ticks\":\"\"},\"colorscale\":[[0.0,\"#0d0887\"],[0.1111111111111111,\"#46039f\"],[0.2222222222222222,\"#7201a8\"],[0.3333333333333333,\"#9c179e\"],[0.4444444444444444,\"#bd3786\"],[0.5555555555555556,\"#d8576b\"],[0.6666666666666666,\"#ed7953\"],[0.7777777777777778,\"#fb9f3a\"],[0.8888888888888888,\"#fdca26\"],[1.0,\"#f0f921\"]]}],\"surface\":[{\"type\":\"surface\",\"colorbar\":{\"outlinewidth\":0,\"ticks\":\"\"},\"colorscale\":[[0.0,\"#0d0887\"],[0.1111111111111111,\"#46039f\"],[0.2222222222222222,\"#7201a8\"],[0.3333333333333333,\"#9c179e\"],[0.4444444444444444,\"#bd3786\"],[0.5555555555555556,\"#d8576b\"],[0.6666666666666666,\"#ed7953\"],[0.7777777777777778,\"#fb9f3a\"],[0.8888888888888888,\"#fdca26\"],[1.0,\"#f0f921\"]]}],\"mesh3d\":[{\"type\":\"mesh3d\",\"colorbar\":{\"outlinewidth\":0,\"ticks\":\"\"}}],\"scatter\":[{\"fillpattern\":{\"fillmode\":\"overlay\",\"size\":10,\"solidity\":0.2},\"type\":\"scatter\"}],\"parcoords\":[{\"type\":\"parcoords\",\"line\":{\"colorbar\":{\"outlinewidth\":0,\"ticks\":\"\"}}}],\"scatterpolargl\":[{\"type\":\"scatterpolargl\",\"marker\":{\"colorbar\":{\"outlinewidth\":0,\"ticks\":\"\"}}}],\"bar\":[{\"error_x\":{\"color\":\"#2a3f5f\"},\"error_y\":{\"color\":\"#2a3f5f\"},\"marker\":{\"line\":{\"color\":\"#E5ECF6\",\"width\":0.5},\"pattern\":{\"fillmode\":\"overlay\",\"size\":10,\"solidity\":0.2}},\"type\":\"bar\"}],\"scattergeo\":[{\"type\":\"scattergeo\",\"marker\":{\"colorbar\":{\"outlinewidth\":0,\"ticks\":\"\"}}}],\"scatterpolar\":[{\"type\":\"scatterpolar\",\"marker\":{\"colorbar\":{\"outlinewidth\":0,\"ticks\":\"\"}}}],\"histogram\":[{\"marker\":{\"pattern\":{\"fillmode\":\"overlay\",\"size\":10,\"solidity\":0.2}},\"type\":\"histogram\"}],\"scattergl\":[{\"type\":\"scattergl\",\"marker\":{\"colorbar\":{\"outlinewidth\":0,\"ticks\":\"\"}}}],\"scatter3d\":[{\"type\":\"scatter3d\",\"line\":{\"colorbar\":{\"outlinewidth\":0,\"ticks\":\"\"}},\"marker\":{\"colorbar\":{\"outlinewidth\":0,\"ticks\":\"\"}}}],\"scattermapbox\":[{\"type\":\"scattermapbox\",\"marker\":{\"colorbar\":{\"outlinewidth\":0,\"ticks\":\"\"}}}],\"scatterternary\":[{\"type\":\"scatterternary\",\"marker\":{\"colorbar\":{\"outlinewidth\":0,\"ticks\":\"\"}}}],\"scattercarpet\":[{\"type\":\"scattercarpet\",\"marker\":{\"colorbar\":{\"outlinewidth\":0,\"ticks\":\"\"}}}],\"carpet\":[{\"aaxis\":{\"endlinecolor\":\"#2a3f5f\",\"gridcolor\":\"white\",\"linecolor\":\"white\",\"minorgridcolor\":\"white\",\"startlinecolor\":\"#2a3f5f\"},\"baxis\":{\"endlinecolor\":\"#2a3f5f\",\"gridcolor\":\"white\",\"linecolor\":\"white\",\"minorgridcolor\":\"white\",\"startlinecolor\":\"#2a3f5f\"},\"type\":\"carpet\"}],\"table\":[{\"cells\":{\"fill\":{\"color\":\"#EBF0F8\"},\"line\":{\"color\":\"white\"}},\"header\":{\"fill\":{\"color\":\"#C8D4E3\"},\"line\":{\"color\":\"white\"}},\"type\":\"table\"}],\"barpolar\":[{\"marker\":{\"line\":{\"color\":\"#E5ECF6\",\"width\":0.5},\"pattern\":{\"fillmode\":\"overlay\",\"size\":10,\"solidity\":0.2}},\"type\":\"barpolar\"}],\"pie\":[{\"automargin\":true,\"type\":\"pie\"}]},\"layout\":{\"autotypenumbers\":\"strict\",\"colorway\":[\"#636efa\",\"#EF553B\",\"#00cc96\",\"#ab63fa\",\"#FFA15A\",\"#19d3f3\",\"#FF6692\",\"#B6E880\",\"#FF97FF\",\"#FECB52\"],\"font\":{\"color\":\"#2a3f5f\"},\"hovermode\":\"closest\",\"hoverlabel\":{\"align\":\"left\"},\"paper_bgcolor\":\"white\",\"plot_bgcolor\":\"#E5ECF6\",\"polar\":{\"bgcolor\":\"#E5ECF6\",\"angularaxis\":{\"gridcolor\":\"white\",\"linecolor\":\"white\",\"ticks\":\"\"},\"radialaxis\":{\"gridcolor\":\"white\",\"linecolor\":\"white\",\"ticks\":\"\"}},\"ternary\":{\"bgcolor\":\"#E5ECF6\",\"aaxis\":{\"gridcolor\":\"white\",\"linecolor\":\"white\",\"ticks\":\"\"},\"baxis\":{\"gridcolor\":\"white\",\"linecolor\":\"white\",\"ticks\":\"\"},\"caxis\":{\"gridcolor\":\"white\",\"linecolor\":\"white\",\"ticks\":\"\"}},\"coloraxis\":{\"colorbar\":{\"outlinewidth\":0,\"ticks\":\"\"}},\"colorscale\":{\"sequential\":[[0.0,\"#0d0887\"],[0.1111111111111111,\"#46039f\"],[0.2222222222222222,\"#7201a8\"],[0.3333333333333333,\"#9c179e\"],[0.4444444444444444,\"#bd3786\"],[0.5555555555555556,\"#d8576b\"],[0.6666666666666666,\"#ed7953\"],[0.7777777777777778,\"#fb9f3a\"],[0.8888888888888888,\"#fdca26\"],[1.0,\"#f0f921\"]],\"sequentialminus\":[[0.0,\"#0d0887\"],[0.1111111111111111,\"#46039f\"],[0.2222222222222222,\"#7201a8\"],[0.3333333333333333,\"#9c179e\"],[0.4444444444444444,\"#bd3786\"],[0.5555555555555556,\"#d8576b\"],[0.6666666666666666,\"#ed7953\"],[0.7777777777777778,\"#fb9f3a\"],[0.8888888888888888,\"#fdca26\"],[1.0,\"#f0f921\"]],\"diverging\":[[0,\"#8e0152\"],[0.1,\"#c51b7d\"],[0.2,\"#de77ae\"],[0.3,\"#f1b6da\"],[0.4,\"#fde0ef\"],[0.5,\"#f7f7f7\"],[0.6,\"#e6f5d0\"],[0.7,\"#b8e186\"],[0.8,\"#7fbc41\"],[0.9,\"#4d9221\"],[1,\"#276419\"]]},\"xaxis\":{\"gridcolor\":\"white\",\"linecolor\":\"white\",\"ticks\":\"\",\"title\":{\"standoff\":15},\"zerolinecolor\":\"white\",\"automargin\":true,\"zerolinewidth\":2},\"yaxis\":{\"gridcolor\":\"white\",\"linecolor\":\"white\",\"ticks\":\"\",\"title\":{\"standoff\":15},\"zerolinecolor\":\"white\",\"automargin\":true,\"zerolinewidth\":2},\"scene\":{\"xaxis\":{\"backgroundcolor\":\"#E5ECF6\",\"gridcolor\":\"white\",\"linecolor\":\"white\",\"showbackground\":true,\"ticks\":\"\",\"zerolinecolor\":\"white\",\"gridwidth\":2},\"yaxis\":{\"backgroundcolor\":\"#E5ECF6\",\"gridcolor\":\"white\",\"linecolor\":\"white\",\"showbackground\":true,\"ticks\":\"\",\"zerolinecolor\":\"white\",\"gridwidth\":2},\"zaxis\":{\"backgroundcolor\":\"#E5ECF6\",\"gridcolor\":\"white\",\"linecolor\":\"white\",\"showbackground\":true,\"ticks\":\"\",\"zerolinecolor\":\"white\",\"gridwidth\":2}},\"shapedefaults\":{\"line\":{\"color\":\"#2a3f5f\"}},\"annotationdefaults\":{\"arrowcolor\":\"#2a3f5f\",\"arrowhead\":0,\"arrowwidth\":1},\"geo\":{\"bgcolor\":\"white\",\"landcolor\":\"#E5ECF6\",\"subunitcolor\":\"white\",\"showland\":true,\"showlakes\":true,\"lakecolor\":\"white\"},\"title\":{\"x\":0.05},\"mapbox\":{\"style\":\"light\"}}},\"xaxis\":{\"anchor\":\"y\",\"domain\":[0.0,1.0],\"title\":{\"text\":\"Product\"}},\"yaxis\":{\"anchor\":\"x\",\"domain\":[0.0,1.0],\"title\":{\"text\":\"Sales\"}},\"legend\":{\"tracegroupgap\":0},\"title\":{\"text\":\"Product Sales\"},\"barmode\":\"relative\"},                        {\"responsive\": true}                    ).then(function(){\n",
              "                            \n",
              "var gd = document.getElementById('982e40fa-d79e-4d97-900f-c7d77dd93633');\n",
              "var x = new MutationObserver(function (mutations, observer) {{\n",
              "        var display = window.getComputedStyle(gd).display;\n",
              "        if (!display || display === 'none') {{\n",
              "            console.log([gd, 'removed!']);\n",
              "            Plotly.purge(gd);\n",
              "            observer.disconnect();\n",
              "        }}\n",
              "}});\n",
              "\n",
              "// Listen for the removal of the full notebook cells\n",
              "var notebookContainer = gd.closest('#notebook-container');\n",
              "if (notebookContainer) {{\n",
              "    x.observe(notebookContainer, {childList: true});\n",
              "}}\n",
              "\n",
              "// Listen for the clearing of the current output cell\n",
              "var outputEl = gd.closest('.output');\n",
              "if (outputEl) {{\n",
              "    x.observe(outputEl, {childList: true});\n",
              "}}\n",
              "\n",
              "                        })                };                            </script>        </div>\n",
              "</body>\n",
              "</html>"
            ]
          },
          "metadata": {}
        }
      ]
    },
    {
      "cell_type": "markdown",
      "source": [
        "**6- Create a DataFrame and add a new column based on an existing column.**"
      ],
      "metadata": {
        "id": "DHODTcIopA5c"
      }
    },
    {
      "cell_type": "code",
      "source": [
        "import pandas as pd\n",
        "\n",
        "# Create a sample DataFrame\n",
        "data = {\n",
        "    'Product': ['A', 'B', 'C', 'D'],\n",
        "    'Price': [100, 200, 150, 250]\n",
        "}\n",
        "\n",
        "df = pd.DataFrame(data)\n",
        "\n",
        "# Add a new column 'Discounted Price' based on the 'Price' column (e.g., 10% discount)\n",
        "df['Discounted Price'] = df['Price'] * 0.9\n",
        "\n",
        "# Display the DataFrame\n",
        "print(df)\n"
      ],
      "metadata": {
        "colab": {
          "base_uri": "https://localhost:8080/"
        },
        "id": "UsM5vad_pQ61",
        "outputId": "e4d16c87-6cbd-4317-f6b1-9d186a0e4236"
      },
      "execution_count": 6,
      "outputs": [
        {
          "output_type": "stream",
          "name": "stdout",
          "text": [
            "  Product  Price  Discounted Price\n",
            "0       A    100              90.0\n",
            "1       B    200             180.0\n",
            "2       C    150             135.0\n",
            "3       D    250             225.0\n"
          ]
        }
      ]
    },
    {
      "cell_type": "markdown",
      "source": [
        "**7- Write a program to perform element-wise multiplication of two NumPy arrays.**"
      ],
      "metadata": {
        "id": "pl9519zPpTDe"
      }
    },
    {
      "cell_type": "code",
      "source": [
        "import numpy as np\n",
        "\n",
        "# Create two NumPy arrays\n",
        "array1 = np.array([1, 2, 3, 4])\n",
        "array2 = np.array([5, 6, 7, 8])\n",
        "\n",
        "# Perform element-wise multiplication\n",
        "result = array1 * array2\n",
        "\n",
        "# Display the result\n",
        "print(\"Result of element-wise multiplication:\", result)\n"
      ],
      "metadata": {
        "colab": {
          "base_uri": "https://localhost:8080/"
        },
        "id": "eFVa_4UwpgU3",
        "outputId": "6f45597b-6e2c-449c-a20e-4abd97634737"
      },
      "execution_count": 7,
      "outputs": [
        {
          "output_type": "stream",
          "name": "stdout",
          "text": [
            "Result of element-wise multiplication: [ 5 12 21 32]\n"
          ]
        }
      ]
    },
    {
      "cell_type": "markdown",
      "source": [
        "**8- Create a line plot with multiple lines using Matplotlib.**"
      ],
      "metadata": {
        "id": "Z_Nig-HrpjY6"
      }
    },
    {
      "cell_type": "code",
      "source": [
        "import matplotlib.pyplot as plt\n",
        "\n",
        "# Sample data for multiple lines\n",
        "x = [0, 1, 2, 3, 4, 5]\n",
        "y1 = [0, 1, 4, 9, 16, 25]  # y = x^2\n",
        "y2 = [0, 1, 2, 3, 4, 5]    # y = x\n",
        "y3 = [0, -1, -2, -3, -4, -5]  # y = -x\n",
        "\n",
        "# Create a line plot with multiple lines\n",
        "plt.plot(x, y1, label='y = x^2', color='r', linestyle='-', marker='o')\n",
        "plt.plot(x, y2, label='y = x', color='b', linestyle='--', marker='x')\n",
        "plt.plot(x, y3, label='y = -x', color='g', linestyle=':', marker='s')\n",
        "\n",
        "# Add labels and title\n",
        "plt.xlabel('X Axis')\n",
        "plt.ylabel('Y Axis')\n",
        "plt.title('Multiple Line Plot Example')\n",
        "\n",
        "# Show legend\n",
        "plt.legend()\n",
        "\n",
        "# Display the plot\n",
        "plt.show()\n"
      ],
      "metadata": {
        "colab": {
          "base_uri": "https://localhost:8080/",
          "height": 472
        },
        "id": "x6Fv2-JIp1ip",
        "outputId": "165a9b5f-a232-4c93-8d93-378fa66a396b"
      },
      "execution_count": 9,
      "outputs": [
        {
          "output_type": "display_data",
          "data": {
            "text/plain": [
              "<Figure size 640x480 with 1 Axes>"
            ],
            "image/png": "[encoded data removed]"
          },
          "metadata": {}
        }
      ]
    },
    {
      "cell_type": "markdown",
      "source": [
        "**9- Generate a Pandas DataFrame and filter rows where a column value is greater than a threshold.**"
      ],
      "metadata": {
        "id": "Zr5rCalPp8_N"
      }
    },
    {
      "cell_type": "code",
      "source": [
        "import pandas as pd\n",
        "\n",
        "# Create a sample DataFrame\n",
        "data = {\n",
        "    'Product': ['A', 'B', 'C', 'D', 'E'],\n",
        "    'Price': [100, 200, 150, 250, 180]\n",
        "}\n",
        "\n",
        "df = pd.DataFrame(data)\n",
        "\n",
        "# Set a threshold for filtering\n",
        "threshold = 180\n",
        "\n",
        "# Filter rows where 'Price' is greater than the threshold\n",
        "filtered_df = df[df['Price'] > threshold]\n",
        "\n",
        "# Display the filtered DataFrame\n",
        "print(filtered_df)\n"
      ],
      "metadata": {
        "colab": {
          "base_uri": "https://localhost:8080/"
        },
        "id": "BvY9xqVIqGn9",
        "outputId": "30f2c8ef-cc4b-4440-fe2e-53d0f3f08ee1"
      },
      "execution_count": 10,
      "outputs": [
        {
          "output_type": "stream",
          "name": "stdout",
          "text": [
            "  Product  Price\n",
            "1       B    200\n",
            "3       D    250\n"
          ]
        }
      ]
    },
    {
      "cell_type": "markdown",
      "source": [
        "**10- Create a histogram using Seaborn to visualize a distribution.**"
      ],
      "metadata": {
        "id": "8NF0GGa8qJnB"
      }
    },
    {
      "cell_type": "code",
      "source": [
        "import seaborn as sns\n",
        "import matplotlib.pyplot as plt\n",
        "\n",
        "# Sample data\n",
        "data = [12, 15, 13, 18, 20, 22, 30, 25, 27, 28, 29, 35, 38, 40, 45]\n",
        "\n",
        "# Create a histogram using Seaborn\n",
        "sns.histplot(data, kde=False, color='blue', bins=10)\n",
        "\n",
        "# Add labels and title\n",
        "plt.xlabel('Value')\n",
        "plt.ylabel('Frequency')\n",
        "plt.title('Histogram of Data Distribution')\n",
        "\n",
        "# Show the plot\n",
        "plt.show()\n"
      ],
      "metadata": {
        "colab": {
          "base_uri": "https://localhost:8080/",
          "height": 472
        },
        "id": "-05BMTPCqnhd",
        "outputId": "07e959b4-f119-4474-eaaa-dab5e387fcb5"
      },
      "execution_count": 11,
      "outputs": [
        {
          "output_type": "display_data",
          "data": {
            "text/plain": [
              "<Figure size 640x480 with 1 Axes>"
            ],
            "image/png": "[encoded data removed]"
          },
          "metadata": {}
        }
      ]
    },
    {
      "cell_type": "markdown",
      "source": [
        "**11- Perform matrix multiplication using NumPy.**"
      ],
      "metadata": {
        "id": "dausuFhDqq0S"
      }
    },
    {
      "cell_type": "code",
      "source": [
        "import numpy as np\n",
        "\n",
        "# Define two matrices\n",
        "matrix1 = np.array([[1, 2], [3, 4]])\n",
        "matrix2 = np.array([[5, 6], [7, 8]])\n",
        "\n",
        "# Perform matrix multiplication using np.dot()\n",
        "result = np.dot(matrix1, matrix2)\n",
        "\n",
        "# Alternatively, using the @ operator\n",
        "# result = matrix1 @ matrix2\n",
        "\n",
        "# Display the result\n",
        "print(\"Matrix Multiplication Result:\")\n",
        "print(result)\n"
      ],
      "metadata": {
        "colab": {
          "base_uri": "https://localhost:8080/"
        },
        "id": "e92m5Q3rq28-",
        "outputId": "71a8dc12-6cd1-439f-f4ac-d46e24fb69a2"
      },
      "execution_count": 12,
      "outputs": [
        {
          "output_type": "stream",
          "name": "stdout",
          "text": [
            "Matrix Multiplication Result:\n",
            "[[19 22]\n",
            " [43 50]]\n"
          ]
        }
      ]
    },
    {
      "cell_type": "markdown",
      "source": [
        "**12- Use Pandas to load a CSV file and display its first 5 rows.**\n",
        "\n"
      ],
      "metadata": {
        "id": "Vc2INBSFq621"
      }
    },
    {
      "cell_type": "code",
      "source": [
        "import pandas as pd\n",
        "\n",
        "# Load a CSV file into a DataFrame\n",
        "df = pd.read_csv('your_file.csv')\n",
        "\n",
        "# Display the first 5 rows\n",
        "print(df.head())\n",
        "\n",
        "\n"
      ],
      "metadata": {
        "colab": {
          "base_uri": "https://localhost:8080/"
        },
        "id": "HNXSz_EvrWmG",
        "outputId": "1d89d029-4891-4e0c-d2fe-8c9b4f838fdc"
      },
      "execution_count": 15,
      "outputs": [
        {
          "output_type": "stream",
          "name": "stdout",
          "text": [
            "  Product  Price\n",
            "0       A    100\n",
            "1       B    200\n",
            "2       C    150\n",
            "3       D    250\n"
          ]
        }
      ]
    },
    {
      "cell_type": "markdown",
      "source": [
        "**13- Create a 3D scatter plot using Plotly.**"
      ],
      "metadata": {
        "id": "UDCi8rSwsPbx"
      }
    },
    {
      "cell_type": "code",
      "source": [
        "import plotly.express as px\n",
        "import pandas as pd\n",
        "\n",
        "# Sample data\n",
        "data = {\n",
        "    'x': [1, 2, 3, 4, 5],\n",
        "    'y': [10, 11, 12, 13, 14],\n",
        "    'z': [15, 16, 17, 18, 19],\n",
        "    'color': ['A', 'B', 'C', 'D', 'E']  # We can use this column for color\n",
        "}\n",
        "\n",
        "# Create a DataFrame\n",
        "df = pd.DataFrame(data)\n",
        "\n",
        "# Create a 3D scatter plot\n",
        "fig = px.scatter_3d(df, x='x', y='y', z='z', color='color', title='3D Scatter Plot')\n",
        "\n",
        "# Show the plot\n",
        "fig.show()\n"
      ],
      "metadata": {
        "colab": {
          "base_uri": "https://localhost:8080/",
          "height": 542
        },
        "id": "IB9aFq9ksfw5",
        "outputId": "a9cdb036-aba4-4e4a-c306-17075938e580"
      },
      "execution_count": 16,
      "outputs": [
        {
          "output_type": "display_data",
          "data": {
            "text/html": [
              "<html>\n",
              "<head><meta charset=\"utf-8\" /></head>\n",
              "<body>\n",
              "    <div>            <script src=\"https://cdnjs.cloudflare.com/ajax/libs/mathjax/2.7.5/MathJax.js?config=TeX-AMS-MML_SVG\"></script><script type=\"text/javascript\">if (window.MathJax && window.MathJax.Hub && window.MathJax.Hub.Config) {window.MathJax.Hub.Config({SVG: {font: \"STIX-Web\"}});}</script>                <script type=\"text/javascript\">window.PlotlyConfig = {MathJaxConfig: 'local'};</script>\n",
              "        <script charset=\"utf-8\" src=\"https://cdn.plot.ly/plotly-2.35.2.min.js\"></script>                <div id=\"708b45f5-eb5d-47a0-a77e-3777c9235e13\" class=\"plotly-graph-div\" style=\"height:525px; width:100%;\"></div>            <script type=\"text/javascript\">                                    window.PLOTLYENV=window.PLOTLYENV || {};                                    if (document.getElementById(\"708b45f5-eb5d-47a0-a77e-3777c9235e13\")) {                    Plotly.newPlot(                        \"708b45f5-eb5d-47a0-a77e-3777c9235e13\",                        [{\"hovertemplate\":\"color=A\\u003cbr\\u003ex=%{x}\\u003cbr\\u003ey=%{y}\\u003cbr\\u003ez=%{z}\\u003cextra\\u003e\\u003c\\u002fextra\\u003e\",\"legendgroup\":\"A\",\"marker\":{\"color\":\"#636efa\",\"symbol\":\"circle\"},\"mode\":\"markers\",\"name\":\"A\",\"scene\":\"scene\",\"showlegend\":true,\"x\":[1],\"y\":[10],\"z\":[15],\"type\":\"scatter3d\"},{\"hovertemplate\":\"color=B\\u003cbr\\u003ex=%{x}\\u003cbr\\u003ey=%{y}\\u003cbr\\u003ez=%{z}\\u003cextra\\u003e\\u003c\\u002fextra\\u003e\",\"legendgroup\":\"B\",\"marker\":{\"color\":\"#EF553B\",\"symbol\":\"circle\"},\"mode\":\"markers\",\"name\":\"B\",\"scene\":\"scene\",\"showlegend\":true,\"x\":[2],\"y\":[11],\"z\":[16],\"type\":\"scatter3d\"},{\"hovertemplate\":\"color=C\\u003cbr\\u003ex=%{x}\\u003cbr\\u003ey=%{y}\\u003cbr\\u003ez=%{z}\\u003cextra\\u003e\\u003c\\u002fextra\\u003e\",\"legendgroup\":\"C\",\"marker\":{\"color\":\"#00cc96\",\"symbol\":\"circle\"},\"mode\":\"markers\",\"name\":\"C\",\"scene\":\"scene\",\"showlegend\":true,\"x\":[3],\"y\":[12],\"z\":[17],\"type\":\"scatter3d\"},{\"hovertemplate\":\"color=D\\u003cbr\\u003ex=%{x}\\u003cbr\\u003ey=%{y}\\u003cbr\\u003ez=%{z}\\u003cextra\\u003e\\u003c\\u002fextra\\u003e\",\"legendgroup\":\"D\",\"marker\":{\"color\":\"#ab63fa\",\"symbol\":\"circle\"},\"mode\":\"markers\",\"name\":\"D\",\"scene\":\"scene\",\"showlegend\":true,\"x\":[4],\"y\":[13],\"z\":[18],\"type\":\"scatter3d\"},{\"hovertemplate\":\"color=E\\u003cbr\\u003ex=%{x}\\u003cbr\\u003ey=%{y}\\u003cbr\\u003ez=%{z}\\u003cextra\\u003e\\u003c\\u002fextra\\u003e\",\"legendgroup\":\"E\",\"marker\":{\"color\":\"#FFA15A\",\"symbol\":\"circle\"},\"mode\":\"markers\",\"name\":\"E\",\"scene\":\"scene\",\"showlegend\":true,\"x\":[5],\"y\":[14],\"z\":[19],\"type\":\"scatter3d\"}],                        {\"template\":{\"data\":{\"histogram2dcontour\":[{\"type\":\"histogram2dcontour\",\"colorbar\":{\"outlinewidth\":0,\"ticks\":\"\"},\"colorscale\":[[0.0,\"#0d0887\"],[0.1111111111111111,\"#46039f\"],[0.2222222222222222,\"#7201a8\"],[0.3333333333333333,\"#9c179e\"],[0.4444444444444444,\"#bd3786\"],[0.5555555555555556,\"#d8576b\"],[0.6666666666666666,\"#ed7953\"],[0.7777777777777778,\"#fb9f3a\"],[0.8888888888888888,\"#fdca26\"],[1.0,\"#f0f921\"]]}],\"choropleth\":[{\"type\":\"choropleth\",\"colorbar\":{\"outlinewidth\":0,\"ticks\":\"\"}}],\"histogram2d\":[{\"type\":\"histogram2d\",\"colorbar\":{\"outlinewidth\":0,\"ticks\":\"\"},\"colorscale\":[[0.0,\"#0d0887\"],[0.1111111111111111,\"#46039f\"],[0.2222222222222222,\"#7201a8\"],[0.3333333333333333,\"#9c179e\"],[0.4444444444444444,\"#bd3786\"],[0.5555555555555556,\"#d8576b\"],[0.6666666666666666,\"#ed7953\"],[0.7777777777777778,\"#fb9f3a\"],[0.8888888888888888,\"#fdca26\"],[1.0,\"#f0f921\"]]}],\"heatmap\":[{\"type\":\"heatmap\",\"colorbar\":{\"outlinewidth\":0,\"ticks\":\"\"},\"colorscale\":[[0.0,\"#0d0887\"],[0.1111111111111111,\"#46039f\"],[0.2222222222222222,\"#7201a8\"],[0.3333333333333333,\"#9c179e\"],[0.4444444444444444,\"#bd3786\"],[0.5555555555555556,\"#d8576b\"],[0.6666666666666666,\"#ed7953\"],[0.7777777777777778,\"#fb9f3a\"],[0.8888888888888888,\"#fdca26\"],[1.0,\"#f0f921\"]]}],\"heatmapgl\":[{\"type\":\"heatmapgl\",\"colorbar\":{\"outlinewidth\":0,\"ticks\":\"\"},\"colorscale\":[[0.0,\"#0d0887\"],[0.1111111111111111,\"#46039f\"],[0.2222222222222222,\"#7201a8\"],[0.3333333333333333,\"#9c179e\"],[0.4444444444444444,\"#bd3786\"],[0.5555555555555556,\"#d8576b\"],[0.6666666666666666,\"#ed7953\"],[0.7777777777777778,\"#fb9f3a\"],[0.8888888888888888,\"#fdca26\"],[1.0,\"#f0f921\"]]}],\"contourcarpet\":[{\"type\":\"contourcarpet\",\"colorbar\":{\"outlinewidth\":0,\"ticks\":\"\"}}],\"contour\":[{\"type\":\"contour\",\"colorbar\":{\"outlinewidth\":0,\"ticks\":\"\"},\"colorscale\":[[0.0,\"#0d0887\"],[0.1111111111111111,\"#46039f\"],[0.2222222222222222,\"#7201a8\"],[0.3333333333333333,\"#9c179e\"],[0.4444444444444444,\"#bd3786\"],[0.5555555555555556,\"#d8576b\"],[0.6666666666666666,\"#ed7953\"],[0.7777777777777778,\"#fb9f3a\"],[0.8888888888888888,\"#fdca26\"],[1.0,\"#f0f921\"]]}],\"surface\":[{\"type\":\"surface\",\"colorbar\":{\"outlinewidth\":0,\"ticks\":\"\"},\"colorscale\":[[0.0,\"#0d0887\"],[0.1111111111111111,\"#46039f\"],[0.2222222222222222,\"#7201a8\"],[0.3333333333333333,\"#9c179e\"],[0.4444444444444444,\"#bd3786\"],[0.5555555555555556,\"#d8576b\"],[0.6666666666666666,\"#ed7953\"],[0.7777777777777778,\"#fb9f3a\"],[0.8888888888888888,\"#fdca26\"],[1.0,\"#f0f921\"]]}],\"mesh3d\":[{\"type\":\"mesh3d\",\"colorbar\":{\"outlinewidth\":0,\"ticks\":\"\"}}],\"scatter\":[{\"fillpattern\":{\"fillmode\":\"overlay\",\"size\":10,\"solidity\":0.2},\"type\":\"scatter\"}],\"parcoords\":[{\"type\":\"parcoords\",\"line\":{\"colorbar\":{\"outlinewidth\":0,\"ticks\":\"\"}}}],\"scatterpolargl\":[{\"type\":\"scatterpolargl\",\"marker\":{\"colorbar\":{\"outlinewidth\":0,\"ticks\":\"\"}}}],\"bar\":[{\"error_x\":{\"color\":\"#2a3f5f\"},\"error_y\":{\"color\":\"#2a3f5f\"},\"marker\":{\"line\":{\"color\":\"#E5ECF6\",\"width\":0.5},\"pattern\":{\"fillmode\":\"overlay\",\"size\":10,\"solidity\":0.2}},\"type\":\"bar\"}],\"scattergeo\":[{\"type\":\"scattergeo\",\"marker\":{\"colorbar\":{\"outlinewidth\":0,\"ticks\":\"\"}}}],\"scatterpolar\":[{\"type\":\"scatterpolar\",\"marker\":{\"colorbar\":{\"outlinewidth\":0,\"ticks\":\"\"}}}],\"histogram\":[{\"marker\":{\"pattern\":{\"fillmode\":\"overlay\",\"size\":10,\"solidity\":0.2}},\"type\":\"histogram\"}],\"scattergl\":[{\"type\":\"scattergl\",\"marker\":{\"colorbar\":{\"outlinewidth\":0,\"ticks\":\"\"}}}],\"scatter3d\":[{\"type\":\"scatter3d\",\"line\":{\"colorbar\":{\"outlinewidth\":0,\"ticks\":\"\"}},\"marker\":{\"colorbar\":{\"outlinewidth\":0,\"ticks\":\"\"}}}],\"scattermapbox\":[{\"type\":\"scattermapbox\",\"marker\":{\"colorbar\":{\"outlinewidth\":0,\"ticks\":\"\"}}}],\"scatterternary\":[{\"type\":\"scatterternary\",\"marker\":{\"colorbar\":{\"outlinewidth\":0,\"ticks\":\"\"}}}],\"scattercarpet\":[{\"type\":\"scattercarpet\",\"marker\":{\"colorbar\":{\"outlinewidth\":0,\"ticks\":\"\"}}}],\"carpet\":[{\"aaxis\":{\"endlinecolor\":\"#2a3f5f\",\"gridcolor\":\"white\",\"linecolor\":\"white\",\"minorgridcolor\":\"white\",\"startlinecolor\":\"#2a3f5f\"},\"baxis\":{\"endlinecolor\":\"#2a3f5f\",\"gridcolor\":\"white\",\"linecolor\":\"white\",\"minorgridcolor\":\"white\",\"startlinecolor\":\"#2a3f5f\"},\"type\":\"carpet\"}],\"table\":[{\"cells\":{\"fill\":{\"color\":\"#EBF0F8\"},\"line\":{\"color\":\"white\"}},\"header\":{\"fill\":{\"color\":\"#C8D4E3\"},\"line\":{\"color\":\"white\"}},\"type\":\"table\"}],\"barpolar\":[{\"marker\":{\"line\":{\"color\":\"#E5ECF6\",\"width\":0.5},\"pattern\":{\"fillmode\":\"overlay\",\"size\":10,\"solidity\":0.2}},\"type\":\"barpolar\"}],\"pie\":[{\"automargin\":true,\"type\":\"pie\"}]},\"layout\":{\"autotypenumbers\":\"strict\",\"colorway\":[\"#636efa\",\"#EF553B\",\"#00cc96\",\"#ab63fa\",\"#FFA15A\",\"#19d3f3\",\"#FF6692\",\"#B6E880\",\"#FF97FF\",\"#FECB52\"],\"font\":{\"color\":\"#2a3f5f\"},\"hovermode\":\"closest\",\"hoverlabel\":{\"align\":\"left\"},\"paper_bgcolor\":\"white\",\"plot_bgcolor\":\"#E5ECF6\",\"polar\":{\"bgcolor\":\"#E5ECF6\",\"angularaxis\":{\"gridcolor\":\"white\",\"linecolor\":\"white\",\"ticks\":\"\"},\"radialaxis\":{\"gridcolor\":\"white\",\"linecolor\":\"white\",\"ticks\":\"\"}},\"ternary\":{\"bgcolor\":\"#E5ECF6\",\"aaxis\":{\"gridcolor\":\"white\",\"linecolor\":\"white\",\"ticks\":\"\"},\"baxis\":{\"gridcolor\":\"white\",\"linecolor\":\"white\",\"ticks\":\"\"},\"caxis\":{\"gridcolor\":\"white\",\"linecolor\":\"white\",\"ticks\":\"\"}},\"coloraxis\":{\"colorbar\":{\"outlinewidth\":0,\"ticks\":\"\"}},\"colorscale\":{\"sequential\":[[0.0,\"#0d0887\"],[0.1111111111111111,\"#46039f\"],[0.2222222222222222,\"#7201a8\"],[0.3333333333333333,\"#9c179e\"],[0.4444444444444444,\"#bd3786\"],[0.5555555555555556,\"#d8576b\"],[0.6666666666666666,\"#ed7953\"],[0.7777777777777778,\"#fb9f3a\"],[0.8888888888888888,\"#fdca26\"],[1.0,\"#f0f921\"]],\"sequentialminus\":[[0.0,\"#0d0887\"],[0.1111111111111111,\"#46039f\"],[0.2222222222222222,\"#7201a8\"],[0.3333333333333333,\"#9c179e\"],[0.4444444444444444,\"#bd3786\"],[0.5555555555555556,\"#d8576b\"],[0.6666666666666666,\"#ed7953\"],[0.7777777777777778,\"#fb9f3a\"],[0.8888888888888888,\"#fdca26\"],[1.0,\"#f0f921\"]],\"diverging\":[[0,\"#8e0152\"],[0.1,\"#c51b7d\"],[0.2,\"#de77ae\"],[0.3,\"#f1b6da\"],[0.4,\"#fde0ef\"],[0.5,\"#f7f7f7\"],[0.6,\"#e6f5d0\"],[0.7,\"#b8e186\"],[0.8,\"#7fbc41\"],[0.9,\"#4d9221\"],[1,\"#276419\"]]},\"xaxis\":{\"gridcolor\":\"white\",\"linecolor\":\"white\",\"ticks\":\"\",\"title\":{\"standoff\":15},\"zerolinecolor\":\"white\",\"automargin\":true,\"zerolinewidth\":2},\"yaxis\":{\"gridcolor\":\"white\",\"linecolor\":\"white\",\"ticks\":\"\",\"title\":{\"standoff\":15},\"zerolinecolor\":\"white\",\"automargin\":true,\"zerolinewidth\":2},\"scene\":{\"xaxis\":{\"backgroundcolor\":\"#E5ECF6\",\"gridcolor\":\"white\",\"linecolor\":\"white\",\"showbackground\":true,\"ticks\":\"\",\"zerolinecolor\":\"white\",\"gridwidth\":2},\"yaxis\":{\"backgroundcolor\":\"#E5ECF6\",\"gridcolor\":\"white\",\"linecolor\":\"white\",\"showbackground\":true,\"ticks\":\"\",\"zerolinecolor\":\"white\",\"gridwidth\":2},\"zaxis\":{\"backgroundcolor\":\"#E5ECF6\",\"gridcolor\":\"white\",\"linecolor\":\"white\",\"showbackground\":true,\"ticks\":\"\",\"zerolinecolor\":\"white\",\"gridwidth\":2}},\"shapedefaults\":{\"line\":{\"color\":\"#2a3f5f\"}},\"annotationdefaults\":{\"arrowcolor\":\"#2a3f5f\",\"arrowhead\":0,\"arrowwidth\":1},\"geo\":{\"bgcolor\":\"white\",\"landcolor\":\"#E5ECF6\",\"subunitcolor\":\"white\",\"showland\":true,\"showlakes\":true,\"lakecolor\":\"white\"},\"title\":{\"x\":0.05},\"mapbox\":{\"style\":\"light\"}}},\"scene\":{\"domain\":{\"x\":[0.0,1.0],\"y\":[0.0,1.0]},\"xaxis\":{\"title\":{\"text\":\"x\"}},\"yaxis\":{\"title\":{\"text\":\"y\"}},\"zaxis\":{\"title\":{\"text\":\"z\"}}},\"legend\":{\"title\":{\"text\":\"color\"},\"tracegroupgap\":0},\"title\":{\"text\":\"3D Scatter Plot\"}},                        {\"responsive\": true}                    ).then(function(){\n",
              "                            \n",
              "var gd = document.getElementById('708b45f5-eb5d-47a0-a77e-3777c9235e13');\n",
              "var x = new MutationObserver(function (mutations, observer) {{\n",
              "        var display = window.getComputedStyle(gd).display;\n",
              "        if (!display || display === 'none') {{\n",
              "            console.log([gd, 'removed!']);\n",
              "            Plotly.purge(gd);\n",
              "            observer.disconnect();\n",
              "        }}\n",
              "}});\n",
              "\n",
              "// Listen for the removal of the full notebook cells\n",
              "var notebookContainer = gd.closest('#notebook-container');\n",
              "if (notebookContainer) {{\n",
              "    x.observe(notebookContainer, {childList: true});\n",
              "}}\n",
              "\n",
              "// Listen for the clearing of the current output cell\n",
              "var outputEl = gd.closest('.output');\n",
              "if (outputEl) {{\n",
              "    x.observe(outputEl, {childList: true});\n",
              "}}\n",
              "\n",
              "                        })                };                            </script>        </div>\n",
              "</body>\n",
              "</html>"
            ]
          },
          "metadata": {}
        }
      ]
    }
  ]
}